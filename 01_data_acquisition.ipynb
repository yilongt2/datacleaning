{
 "cells": [
  {
   "cell_type": "code",
   "execution_count": null,
   "id": "2aeae37a",
   "metadata": {},
   "outputs": [],
   "source": [
    "import wbdata\n",
    "import pandas as pd\n",
    "import datetime"
   ]
  },
  {
   "cell_type": "code",
   "execution_count": null,
   "id": "6d349bee",
   "metadata": {},
   "outputs": [],
   "source": [
    "# Define the indicators to fetch\n",
    "indicators = {\n",
    "    \"NY.GDP.PCAP.CD\": \"GDP_per_capita\",\n",
    "    \"EG.ELC.ACCS.ZS\": \"Access_to_electricity\",\n",
    "    \"SN.ITK.DEFC.ZS\": \"Undernourishment\",\n",
    "    \"SE.PRM.ENRR\": \"Primary_enrollment\",\n",
    "    \"SE.SEC.ENRR\": \"Secondary_enrollment\",\n",
    "    \"SE.TER.ENRR\": \"Tertiary_enrollment\",\n",
    "    \"IT.NET.USER.ZS\": \"Internet_usage\",\n",
    "    \"SE.PRM.ENRT.TC.ZS\": \"Pupil_teacher_ratio_primary\",\n",
    "    \"SE.SEC.ENRT.TC.ZS\": \"Pupil_teacher_ratio_secondary\",\n",
    "    \"SE.TER.ENRT.TC.ZS\": \"Pupil_teacher_ratio_tertiary\",\n",
    "    \"SE.PRM.TCAQ.ZS\": \"Trained_teacher_primary\",\n",
    "    \"SE.SEC.TCAQ.ZS\": \"Trained_teacher_secondary\",\n",
    "    \"SE.XPD.TOTL.GD.ZS\": \"Edu_spending_percent_GDP\",\n",
    "    \"SE.ADT.LITR.ZS\": \"Literacy_rate_15plus\"\n",
    "}"
   ]
  },
  {
   "cell_type": "code",
   "execution_count": null,
   "id": "30201418",
   "metadata": {},
   "outputs": [],
   "source": [
    "# Set the date range to pull the latest available data\n",
    "today = datetime.datetime.today()\n",
    "start_date = datetime.datetime(today.year - 10, 1, 1)  # Look back 10 years"
   ]
  },
  {
   "cell_type": "code",
   "execution_count": null,
   "id": "be6a7ba5",
   "metadata": {},
   "outputs": [],
   "source": [
    "# Download the data for all countries\n",
    "df = wbdata.get_dataframe(indicators, convert_date=True, data_date=(start_date, today))\n",
    "df.reset_index(inplace=True)"
   ]
  },
  {
   "cell_type": "code",
   "execution_count": null,
   "id": "0f5c12cc",
   "metadata": {},
   "outputs": [],
   "source": [
    "# Keep only the most recent year for each country/indicator combo\n",
    "df['year'] = df['date'].dt.year\n",
    "latest = df.groupby(['country', 'indicator'])['year'].transform('max')\n",
    "df_latest = df[df['year'] == latest]"
   ]
  },
  {
   "cell_type": "code",
   "execution_count": null,
   "id": "af7187eb",
   "metadata": {},
   "outputs": [],
   "source": [
    "# Save to file\n",
    "df_latest.to_csv(\"C:\\Users\\tylty\\Downloads\\IS537\\Master.File.xlsx, index=False)"
   ]
  }
 ],
 "metadata": {
  "kernelspec": {
   "display_name": "Python 3 (ipykernel)",
   "language": "python",
   "name": "python3"
  },
  "language_info": {
   "codemirror_mode": {
    "name": "ipython",
    "version": 3
   },
   "file_extension": ".py",
   "mimetype": "text/x-python",
   "name": "python",
   "nbconvert_exporter": "python",
   "pygments_lexer": "ipython3",
   "version": "3.9.7"
  }
 },
 "nbformat": 4,
 "nbformat_minor": 5
}
